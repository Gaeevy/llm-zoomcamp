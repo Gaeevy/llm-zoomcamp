{
 "cells": [
  {
   "cell_type": "code",
   "outputs": [],
   "source": [
    "from openai import OpenAI\n",
    "\n",
    "client = OpenAI(\n",
    "    base_url='http://localhost:11434/v1/',\n",
    "    api_key='ollama',\n",
    ")"
   ],
   "metadata": {
    "collapsed": false,
    "ExecuteTime": {
     "end_time": "2024-07-09T13:40:46.245633Z",
     "start_time": "2024-07-09T13:40:45.997788Z"
    }
   },
   "id": "250e99bf35520861",
   "execution_count": 1
  },
  {
   "cell_type": "code",
   "outputs": [
    {
     "data": {
      "text/plain": "\"Sure, here's the formula for energy:\\n\\n**E = K + U**\\n\\nWhere:\\n\\n* **E** is the energy in joules (J)\\n* **K** is the kinetic energy in joules (J)\\n* **U** is the potential energy in joules (J)\\n\\n**Kinetic energy (K)** is the energy an object possesses when it moves or is in motion. It is calculated as half the product of an object's mass (m) and its velocity (v) squared:\\n\\n**K = 1/2mv^2**\\n\\n**Potential energy (U)** is the energy an object possesses due to its position or configuration. It is calculated as the product of an object's mass, gravitational constant (g), and height or position above a reference point.\\n\\n**U = mgh**\\n\\nWhere:\\n\\n* **m** is the mass in kilograms (kg)\\n* **g** is the gravitational constant (9.8 m/s^2)\\n* **h** is the height or position in meters (m)\\n\\nThe formula shows that energy can be expressed as the sum of kinetic and potential energy. The kinetic energy is a measure of the object's ability to do work, while the potential energy is a measure of the object's ability to do work against a force.\""
     },
     "execution_count": 17,
     "metadata": {},
     "output_type": "execute_result"
    }
   ],
   "source": [
    "response = client.chat.completions.create(\n",
    "    model=\"gemma:2b\",\n",
    "    messages=[{\"role\": \"user\", \"content\": \"What's the formula for energy?\"}],\n",
    "    temperature=0.0,\n",
    ")\n",
    "response.choices[0].message.content"
   ],
   "metadata": {
    "collapsed": false,
    "ExecuteTime": {
     "end_time": "2024-07-09T17:55:58.860518Z",
     "start_time": "2024-07-09T17:55:36.539590Z"
    }
   },
   "id": "aed3a16833b7d703",
   "execution_count": 17
  },
  {
   "cell_type": "code",
   "outputs": [
    {
     "data": {
      "text/plain": "1020"
     },
     "execution_count": 18,
     "metadata": {},
     "output_type": "execute_result"
    }
   ],
   "source": [
    "len(response.choices[0].message.content)"
   ],
   "metadata": {
    "collapsed": false,
    "ExecuteTime": {
     "end_time": "2024-07-09T17:56:02.847782Z",
     "start_time": "2024-07-09T17:56:02.843995Z"
    }
   },
   "id": "eef6550502b8ad69",
   "execution_count": 18
  },
  {
   "cell_type": "code",
   "outputs": [],
   "source": [],
   "metadata": {
    "collapsed": false
   },
   "id": "d33e813f41a2312e"
  },
  {
   "cell_type": "code",
   "outputs": [],
   "source": [
    "from main import prepare_docs\n",
    "from tqdm.auto import tqdm\n",
    "from elasticsearch import Elasticsearch"
   ],
   "metadata": {
    "collapsed": false,
    "ExecuteTime": {
     "end_time": "2024-06-24T12:11:29.586717Z",
     "start_time": "2024-06-24T12:11:29.581072Z"
    }
   },
   "id": "ee8591f73fbd3e22",
   "execution_count": 60
  },
  {
   "cell_type": "code",
   "outputs": [],
   "source": [
    "es_client = Elasticsearch(\"http://localhost:9200\")"
   ],
   "metadata": {
    "collapsed": false,
    "ExecuteTime": {
     "end_time": "2024-06-24T12:11:31.005691Z",
     "start_time": "2024-06-24T12:11:31.000614Z"
    }
   },
   "id": "9d0e5c5ea011f35",
   "execution_count": 61
  },
  {
   "cell_type": "code",
   "outputs": [],
   "source": [
    "index_name = \"questions\"\n",
    "index_settings = {\n",
    "    \"settings\": {\n",
    "        \"number_of_shards\": 1,\n",
    "        \"number_of_replicas\": 0\n",
    "    },\n",
    "    \"mappings\": {\n",
    "        \"properties\": {\n",
    "            \"text\": {\"type\": \"text\"},\n",
    "            \"section\": {\"type\": \"text\"},\n",
    "            \"question\": {\"type\": \"text\"},\n",
    "            \"course\": {\"type\": \"keyword\"} \n",
    "        }\n",
    "    }\n",
    "}"
   ],
   "metadata": {
    "collapsed": false,
    "ExecuteTime": {
     "end_time": "2024-06-24T12:11:36.145560Z",
     "start_time": "2024-06-24T12:11:36.143161Z"
    }
   },
   "id": "84bbeacf2a3d8af4",
   "execution_count": 62
  },
  {
   "cell_type": "code",
   "outputs": [
    {
     "data": {
      "text/plain": "ObjectApiResponse({'acknowledged': True, 'shards_acknowledged': True, 'index': 'questions'})"
     },
     "execution_count": 63,
     "metadata": {},
     "output_type": "execute_result"
    }
   ],
   "source": [
    "es_client.indices.create(index=index_name, body=index_settings)"
   ],
   "metadata": {
    "collapsed": false,
    "ExecuteTime": {
     "end_time": "2024-06-24T12:11:37.476460Z",
     "start_time": "2024-06-24T12:11:37.364205Z"
    }
   },
   "id": "931bcb5843959d0e",
   "execution_count": 63
  },
  {
   "cell_type": "code",
   "outputs": [
    {
     "name": "stderr",
     "output_type": "stream",
     "text": [
      "100%|██████████| 948/948 [00:02<00:00, 369.98it/s]\n"
     ]
    }
   ],
   "source": [
    "documents = prepare_docs()\n",
    "for doc in tqdm(documents):\n",
    "    es_client.index(index=index_name, body=doc)"
   ],
   "metadata": {
    "collapsed": false,
    "ExecuteTime": {
     "end_time": "2024-06-24T12:11:42.722317Z",
     "start_time": "2024-06-24T12:11:40.151021Z"
    }
   },
   "id": "199f5cd5c0c0c1",
   "execution_count": 64
  },
  {
   "cell_type": "code",
   "outputs": [],
   "source": [
    "query = \"How do I execute a command in a running docker container?\"\n",
    "\n",
    "es_search_query = {\n",
    "    \"size\": 3,\n",
    "    \"query\": {\n",
    "        \"bool\": {\n",
    "            \"must\": {\n",
    "                \"multi_match\": {\n",
    "                    \"query\": query,\n",
    "                    \"fields\": [\"question^4\", \"text\",],\n",
    "                    \"type\": \"best_fields\"\n",
    "                }\n",
    "            },\n",
    "            \"filter\": {\n",
    "                \"term\": {\n",
    "                    \"course\": \"machine-learning-zoomcamp\"\n",
    "                }\n",
    "            }\n",
    "        }\n",
    "    }\n",
    "}"
   ],
   "metadata": {
    "collapsed": false,
    "ExecuteTime": {
     "end_time": "2024-06-24T12:15:16.516542Z",
     "start_time": "2024-06-24T12:15:16.505623Z"
    }
   },
   "id": "8e1ae57352d4b497",
   "execution_count": 71
  },
  {
   "cell_type": "code",
   "outputs": [],
   "source": [
    "results = es_client.search(index=index_name, body=es_search_query)"
   ],
   "metadata": {
    "collapsed": false,
    "ExecuteTime": {
     "end_time": "2024-06-24T12:15:17.506317Z",
     "start_time": "2024-06-24T12:15:17.476075Z"
    }
   },
   "id": "cde30afa62774868",
   "execution_count": 72
  },
  {
   "cell_type": "code",
   "outputs": [
    {
     "data": {
      "text/plain": "[{'_index': 'questions',\n  '_id': 'p4UoSpABpEGeZgDFvIsF',\n  '_score': 84.050095,\n  '_source': {'text': 'Launch the container image in interactive mode and overriding the entrypoint, so that it starts a bash command.\\ndocker run -it --entrypoint bash <image>\\nIf the container is already running, execute a command in the specific container:\\ndocker ps (find the container-id)\\ndocker exec -it <container-id> bash\\n(Marcos MJD)',\n   'section': '5. Deploying Machine Learning Models',\n   'question': 'How do I debug a docker container?',\n   'course': 'machine-learning-zoomcamp'}},\n {'_index': 'questions',\n  '_id': 'xoUoSpABpEGeZgDFvItM',\n  '_score': 51.04628,\n  '_source': {'text': \"You can copy files from your local machine into a Docker container using the docker cp command. Here's how to do it:\\nTo copy a file or directory from your local machine into a running Docker container, you can use the `docker cp command`. The basic syntax is as follows:\\ndocker cp /path/to/local/file_or_directory container_id:/path/in/container\\nHrithik Kumar Advani\",\n   'section': '5. Deploying Machine Learning Models',\n   'question': 'How do I copy files from my local machine to docker container?',\n   'course': 'machine-learning-zoomcamp'}},\n {'_index': 'questions',\n  '_id': 'x4UoSpABpEGeZgDFvItP',\n  '_score': 49.938507,\n  '_source': {'text': 'You can copy files from your local machine into a Docker container using the docker cp command. Here\\'s how to do it:\\nIn the Dockerfile, you can provide the folder containing the files that you want to copy over. The basic syntax is as follows:\\nCOPY [\"src/predict.py\", \"models/xgb_model.bin\", \"./\"]\\t\\t\\t\\t\\t\\t\\t\\t\\t\\t\\tGopakumar Gopinathan',\n   'section': '5. Deploying Machine Learning Models',\n   'question': 'How do I copy files from a different folder into docker container’s working directory?',\n   'course': 'machine-learning-zoomcamp'}}]"
     },
     "execution_count": 73,
     "metadata": {},
     "output_type": "execute_result"
    }
   ],
   "source": [
    "results[\"hits\"][\"hits\"]"
   ],
   "metadata": {
    "collapsed": false,
    "ExecuteTime": {
     "end_time": "2024-06-24T12:15:17.742793Z",
     "start_time": "2024-06-24T12:15:17.739821Z"
    }
   },
   "id": "b2939de439012950",
   "execution_count": 73
  },
  {
   "cell_type": "code",
   "outputs": [],
   "source": [
    "context_template = \"\"\"\n",
    "Q: {question}\n",
    "A: {text}\n",
    "\"\"\".strip()\n",
    "\n",
    "prompt_template = \"\"\"\n",
    "You're a course teaching assistant. Answer the QUESTION based on the CONTEXT from the FAQ database.\n",
    "Use only the facts from the CONTEXT when answering the QUESTION.\n",
    "\n",
    "QUESTION: {question}\n",
    "\n",
    "CONTEXT:\n",
    "{context}\n",
    "\"\"\".strip()"
   ],
   "metadata": {
    "collapsed": false,
    "ExecuteTime": {
     "end_time": "2024-06-24T12:17:47.481971Z",
     "start_time": "2024-06-24T12:17:47.477172Z"
    }
   },
   "id": "41545baf07961f67",
   "execution_count": 74
  },
  {
   "cell_type": "code",
   "outputs": [],
   "source": [
    "contexts = []\n",
    "for hit in results[\"hits\"][\"hits\"]:\n",
    "    context = context_template.format(**hit[\"_source\"])\n",
    "    contexts.append(context)"
   ],
   "metadata": {
    "collapsed": false,
    "ExecuteTime": {
     "end_time": "2024-06-24T12:20:38.883154Z",
     "start_time": "2024-06-24T12:20:38.879985Z"
    }
   },
   "id": "b4d21b9f0be844d6",
   "execution_count": 79
  },
  {
   "cell_type": "code",
   "outputs": [],
   "source": [
    "prompt = prompt_template.format(question=query, context=\"\\n\\n\".join(contexts))"
   ],
   "metadata": {
    "collapsed": false,
    "ExecuteTime": {
     "end_time": "2024-06-24T12:20:39.353526Z",
     "start_time": "2024-06-24T12:20:39.351476Z"
    }
   },
   "id": "13b8bf0858bfc366",
   "execution_count": 80
  },
  {
   "cell_type": "code",
   "outputs": [
    {
     "name": "stdout",
     "output_type": "stream",
     "text": [
      "You're a course teaching assistant. Answer the QUESTION based on the CONTEXT from the FAQ database.\n",
      "Use only the facts from the CONTEXT when answering the QUESTION.\n",
      "\n",
      "QUESTION: How do I execute a command in a running docker container?\n",
      "\n",
      "CONTEXT:\n",
      "Q: How do I debug a docker container?\n",
      "A: Launch the container image in interactive mode and overriding the entrypoint, so that it starts a bash command.\n",
      "docker run -it --entrypoint bash <image>\n",
      "If the container is already running, execute a command in the specific container:\n",
      "docker ps (find the container-id)\n",
      "docker exec -it <container-id> bash\n",
      "(Marcos MJD)\n",
      "\n",
      "Q: How do I copy files from my local machine to docker container?\n",
      "A: You can copy files from your local machine into a Docker container using the docker cp command. Here's how to do it:\n",
      "To copy a file or directory from your local machine into a running Docker container, you can use the `docker cp command`. The basic syntax is as follows:\n",
      "docker cp /path/to/local/file_or_directory container_id:/path/in/container\n",
      "Hrithik Kumar Advani\n",
      "\n",
      "Q: How do I copy files from a different folder into docker container’s working directory?\n",
      "A: You can copy files from your local machine into a Docker container using the docker cp command. Here's how to do it:\n",
      "In the Dockerfile, you can provide the folder containing the files that you want to copy over. The basic syntax is as follows:\n",
      "COPY [\"src/predict.py\", \"models/xgb_model.bin\", \"./\"]\t\t\t\t\t\t\t\t\t\t\tGopakumar Gopinathan\n"
     ]
    }
   ],
   "source": [
    "print(prompt)"
   ],
   "metadata": {
    "collapsed": false,
    "ExecuteTime": {
     "end_time": "2024-06-24T12:21:09.417868Z",
     "start_time": "2024-06-24T12:21:09.414011Z"
    }
   },
   "id": "2d20ec857539d2dd",
   "execution_count": 83
  },
  {
   "cell_type": "code",
   "outputs": [],
   "source": [
    "import tiktoken"
   ],
   "metadata": {
    "collapsed": false,
    "ExecuteTime": {
     "end_time": "2024-06-24T12:22:59.880922Z",
     "start_time": "2024-06-24T12:22:57.167208Z"
    }
   },
   "id": "4088067761b694fe",
   "execution_count": 85
  },
  {
   "cell_type": "code",
   "outputs": [],
   "source": [
    "encoding = tiktoken.encoding_for_model(\"gpt-4o\")"
   ],
   "metadata": {
    "collapsed": false,
    "ExecuteTime": {
     "end_time": "2024-06-24T12:23:05.798351Z",
     "start_time": "2024-06-24T12:23:01.841386Z"
    }
   },
   "id": "f0bfe149cca9b5de",
   "execution_count": 86
  },
  {
   "cell_type": "code",
   "outputs": [
    {
     "data": {
      "text/plain": "[63842,\n 261,\n 4165,\n 14029,\n 29186,\n 13,\n 30985,\n 290,\n 150339,\n 4122,\n 402,\n 290,\n 31810,\n 8099,\n 591,\n 290,\n 40251,\n 7862,\n 558,\n 8470,\n 1606,\n 290,\n 19719,\n 591,\n 290,\n 31810,\n 8099,\n 1261,\n 55959,\n 290,\n 150339,\n 364,\n 107036,\n 25,\n 3253,\n 621,\n 357,\n 15792,\n 261,\n 6348,\n 306,\n 261,\n 6788,\n 62275,\n 9282,\n 1715,\n 10637,\n 50738,\n 734,\n 48,\n 25,\n 3253,\n 621,\n 357,\n 15199,\n 261,\n 62275,\n 9282,\n 3901,\n 32,\n 25,\n 41281,\n 290,\n 9282,\n 3621,\n 306,\n 25383,\n 6766,\n 326,\n 151187,\n 290,\n 7251,\n 4859,\n 11,\n 813,\n 484,\n 480,\n 13217,\n 261,\n 38615,\n 6348,\n 558,\n 68923,\n 2461,\n 533,\n 278,\n 2230,\n 7962,\n 4859,\n 38615,\n 464,\n 3365,\n 523,\n 3335,\n 290,\n 9282,\n 382,\n 4279,\n 6788,\n 11,\n 15792,\n 261,\n 6348,\n 306,\n 290,\n 4857,\n 9282,\n 734,\n 68923,\n 10942,\n 350,\n 6555,\n 290,\n 9282,\n 26240,\n 446,\n 68923,\n 25398,\n 533,\n 278,\n 464,\n 6896,\n 26240,\n 29,\n 38615,\n 198,\n 6103,\n 277,\n 10732,\n 391,\n 79771,\n 1029,\n 48,\n 25,\n 3253,\n 621,\n 357,\n 5150,\n 6291,\n 591,\n 922,\n 2698,\n 7342,\n 316,\n 62275,\n 9282,\n 3901,\n 32,\n 25,\n 1608,\n 665,\n 5150,\n 6291,\n 591,\n 634,\n 2698,\n 7342,\n 1511,\n 261,\n 91238,\n 9282,\n 2360,\n 290,\n 62275,\n 27776,\n 6348,\n 13,\n 44257,\n 1495,\n 316,\n 621,\n 480,\n 734,\n 1385,\n 5150,\n 261,\n 1974,\n 503,\n 12552,\n 591,\n 634,\n 2698,\n 7342,\n 1511,\n 261,\n 6788,\n 91238,\n 9282,\n 11,\n 481,\n 665,\n 1199,\n 290,\n 2700,\n 68923,\n 27776,\n 6348,\n 62102,\n 623,\n 9439,\n 45440,\n 382,\n 472,\n 18183,\n 734,\n 68923,\n 27776,\n 820,\n 4189,\n 72231,\n 52214,\n 51766,\n 15400,\n 35850,\n 9282,\n 1537,\n 27975,\n 4189,\n 26985,\n 190543,\n 198,\n 106096,\n 437,\n 507,\n 70737,\n 15241,\n 3048,\n 279,\n 48,\n 25,\n 3253,\n 621,\n 357,\n 5150,\n 6291,\n 591,\n 261,\n 2647,\n 15610,\n 1511,\n 62275,\n 9282,\n 802,\n 4113,\n 12552,\n 3901,\n 32,\n 25,\n 1608,\n 665,\n 5150,\n 6291,\n 591,\n 634,\n 2698,\n 7342,\n 1511,\n 261,\n 91238,\n 9282,\n 2360,\n 290,\n 62275,\n 27776,\n 6348,\n 13,\n 44257,\n 1495,\n 316,\n 621,\n 480,\n 734,\n 637,\n 290,\n 91238,\n 2318,\n 11,\n 481,\n 665,\n 3587,\n 290,\n 15610,\n 15683,\n 290,\n 6291,\n 484,\n 481,\n 1682,\n 316,\n 5150,\n 1072,\n 13,\n 623,\n 9439,\n 45440,\n 382,\n 472,\n 18183,\n 734,\n 128701,\n 9129,\n 7205,\n 8138,\n 21369,\n 17311,\n 672,\n 392,\n 13123,\n 22739,\n 9320,\n 10928,\n 69422,\n 672,\n 9633,\n 2601,\n 14973,\n 22713,\n 167296,\n 30463,\n 499,\n 137058,\n 22064]"
     },
     "execution_count": 89,
     "metadata": {},
     "output_type": "execute_result"
    }
   ],
   "source": [
    "encoding.encode(prompt)"
   ],
   "metadata": {
    "collapsed": false,
    "ExecuteTime": {
     "end_time": "2024-06-24T12:23:50.088978Z",
     "start_time": "2024-06-24T12:23:50.085271Z"
    }
   },
   "id": "952db60954acba2a",
   "execution_count": 89
  },
  {
   "cell_type": "code",
   "outputs": [
    {
     "data": {
      "text/plain": "b' a'"
     },
     "execution_count": 92,
     "metadata": {},
     "output_type": "execute_result"
    }
   ],
   "source": [
    "encoding.decode_single_token_bytes(261)"
   ],
   "metadata": {
    "collapsed": false,
    "ExecuteTime": {
     "end_time": "2024-06-24T12:24:22.256571Z",
     "start_time": "2024-06-24T12:24:22.252531Z"
    }
   },
   "id": "e8314b61f47eb18c",
   "execution_count": 92
  },
  {
   "cell_type": "code",
   "outputs": [],
   "source": [],
   "metadata": {
    "collapsed": false
   },
   "id": "32cac26511ce553b"
  }
 ],
 "metadata": {
  "kernelspec": {
   "display_name": "llm-wshp",
   "language": "python",
   "name": "llm-wshp"
  },
  "language_info": {
   "codemirror_mode": {
    "name": "ipython",
    "version": 3
   },
   "file_extension": ".py",
   "mimetype": "text/x-python",
   "name": "python",
   "nbconvert_exporter": "python",
   "pygments_lexer": "ipython3",
   "version": "3.11.0"
  }
 },
 "nbformat": 4,
 "nbformat_minor": 5
}
