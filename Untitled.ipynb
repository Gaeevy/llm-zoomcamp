{
 "cells": [
  {
   "cell_type": "code",
   "outputs": [
    {
     "name": "stderr",
     "output_type": "stream",
     "text": [
      "/Users/vlad-offerfit/Library/Caches/pypoetry/virtualenvs/llm-zoomcamp-wshp-Xg7JukCR-py3.11/lib/python3.11/site-packages/tqdm/auto.py:21: TqdmWarning: IProgress not found. Please update jupyter and ipywidgets. See https://ipywidgets.readthedocs.io/en/stable/user_install.html\n",
      "  from .autonotebook import tqdm as notebook_tqdm\n"
     ]
    }
   ],
   "source": [
    "from sentence_transformers import SentenceTransformer"
   ],
   "metadata": {
    "collapsed": false,
    "ExecuteTime": {
     "end_time": "2024-08-04T14:26:50.936226Z",
     "start_time": "2024-08-04T14:26:49.548008Z"
    }
   },
   "id": "3e993956f0253380",
   "execution_count": 11
  },
  {
   "cell_type": "code",
   "outputs": [],
   "source": [
    "model = SentenceTransformer(\"multi-qa-distilbert-cos-v1\")"
   ],
   "metadata": {
    "collapsed": false,
    "ExecuteTime": {
     "end_time": "2024-08-04T14:26:55.663928Z",
     "start_time": "2024-08-04T14:26:53.857828Z"
    }
   },
   "id": "8963eae8154dc3bb",
   "execution_count": 12
  },
  {
   "cell_type": "code",
   "outputs": [],
   "source": [
    "user_question = \"I just discovered the course. Can I still join it?\"\n",
    "user_question_vector = model.encode(user_question).tolist()"
   ],
   "metadata": {
    "collapsed": false,
    "ExecuteTime": {
     "end_time": "2024-08-04T14:26:58.752547Z",
     "start_time": "2024-08-04T14:26:58.606518Z"
    }
   },
   "id": "577cf382e614c120",
   "execution_count": 13
  },
  {
   "cell_type": "code",
   "outputs": [],
   "source": [
    "import requests \n",
    "\n",
    "base_url = 'https://github.com/DataTalksClub/llm-zoomcamp/blob/main'\n",
    "relative_url = '03-vector-search/eval/documents-with-ids.json'\n",
    "docs_url = f'{base_url}/{relative_url}?raw=1'\n",
    "docs_response = requests.get(docs_url)\n",
    "documents = docs_response.json()"
   ],
   "metadata": {
    "collapsed": false,
    "ExecuteTime": {
     "end_time": "2024-08-04T13:30:36.930772Z",
     "start_time": "2024-08-04T13:30:35.543391Z"
    }
   },
   "id": "32b0c73481ac6375",
   "execution_count": 1
  },
  {
   "cell_type": "code",
   "outputs": [],
   "source": [
    "import json\n",
    "\n",
    "with open(\"data/documents-with-ids.json\", \"w\") as f:\n",
    "    json.dump(documents, f, indent=2)"
   ],
   "metadata": {
    "collapsed": false,
    "ExecuteTime": {
     "end_time": "2024-08-04T13:32:05.176552Z",
     "start_time": "2024-08-04T13:32:05.169128Z"
    }
   },
   "id": "82692bbd0d7f8ff0",
   "execution_count": 5
  },
  {
   "cell_type": "code",
   "outputs": [
    {
     "name": "stderr",
     "output_type": "stream",
     "text": [
      "100%|██████████| 948/948 [01:05<00:00, 14.46it/s]\n"
     ]
    }
   ],
   "source": [
    "embeddings = []\n",
    "\n",
    "for doc in tqdm(documents):\n",
    "    qa_text = doc[\"question\"] + \" \" + doc[\"text\"]\n",
    "    embeddings.append(model.encode(qa_text).tolist())"
   ],
   "metadata": {
    "collapsed": false,
    "ExecuteTime": {
     "end_time": "2024-07-29T17:37:33.617590Z",
     "start_time": "2024-07-29T17:36:28.075341Z"
    }
   },
   "id": "d703525103899093",
   "execution_count": 10
  },
  {
   "cell_type": "code",
   "outputs": [
    {
     "data": {
      "text/plain": "(948, 768)"
     },
     "execution_count": 11,
     "metadata": {},
     "output_type": "execute_result"
    }
   ],
   "source": [
    "import numpy as np\n",
    "\n",
    "X = np.array(embeddings)\n",
    "X.shape"
   ],
   "metadata": {
    "collapsed": false,
    "ExecuteTime": {
     "end_time": "2024-07-29T17:37:47.304686Z",
     "start_time": "2024-07-29T17:37:47.275942Z"
    }
   },
   "id": "dbaab38d657831e1",
   "execution_count": 11
  },
  {
   "cell_type": "code",
   "outputs": [],
   "source": [
    "if_ml_zoomcamp_docs = [doc[\"course\"] == \"machine-learning-zoomcamp\" for doc in documents]\n",
    "docs_mlz = [doc for doc in documents if doc[\"course\"] == \"machine-learning-zoomcamp\"]\n",
    "X_mlz = X[if_ml_zoomcamp_docs].copy()\n",
    "\n",
    "for doc, embd in zip(docs_mlz, X_mlz):\n",
    "    doc[\"qt_vector\"] = embd.tolist()"
   ],
   "metadata": {
    "collapsed": false,
    "ExecuteTime": {
     "end_time": "2024-07-29T19:22:20.547480Z",
     "start_time": "2024-07-29T19:22:20.538180Z"
    }
   },
   "id": "b88e161dfef03b42",
   "execution_count": 49
  },
  {
   "cell_type": "code",
   "outputs": [
    {
     "data": {
      "text/plain": "np.float64(0.6506574375598062)"
     },
     "execution_count": 26,
     "metadata": {},
     "output_type": "execute_result"
    }
   ],
   "source": [
    "X_mlz.dot(user_question_vector).max()"
   ],
   "metadata": {
    "collapsed": false,
    "ExecuteTime": {
     "end_time": "2024-07-29T17:43:02.018764Z",
     "start_time": "2024-07-29T17:43:02.015938Z"
    }
   },
   "id": "38d8b39014e4e56b",
   "execution_count": 26
  },
  {
   "cell_type": "code",
   "outputs": [
    {
     "data": {
      "text/plain": "[{'text': 'Yes, you can. You won’t be able to submit some of the homeworks, but you can still take part in the course.\\nIn order to get a certificate, you need to submit 2 out of 3 course projects and review 3 peers’ Projects by the deadline. It means that if you join the course at the end of November and manage to work on two projects, you will still be eligible for a certificate.',\n  'section': 'General course-related questions',\n  'question': 'The course has already started. Can I still join it?',\n  'course': 'machine-learning-zoomcamp',\n  'id': 'ee58a693'},\n {'text': 'Welcome to the course! Go to the course page (http://mlzoomcamp.com/), scroll down and start going through the course materials. Then read everything in the cohort folder for your cohort’s year.\\nClick on the links and start watching the videos. Also watch office hours from previous cohorts. Go to DTC youtube channel and click on Playlists and search for {course yyyy}. ML Zoomcamp was first launched in 2021.\\nOr you can just use this link: http://mlzoomcamp.com/#syllabus',\n  'section': 'General course-related questions',\n  'question': 'I just joined. What should I do next? How can I access course materials?',\n  'course': 'machine-learning-zoomcamp',\n  'id': '0a278fb2'},\n {'text': \"The process is automated now, so you should receive the email eventually. If you haven’t, check your promotions tab in Gmail as well as spam.\\nIf you unsubscribed from our newsletter, you won't get course related updates too.\\nBut don't worry, it’s not a problem. To make sure you don’t miss anything, join the #course-ml-zoomcamp channel in Slack and our telegram channel with announcements. This is enough to follow the course.\",\n  'section': 'General course-related questions',\n  'question': \"I filled the form, but haven't received a confirmation email. Is it normal?\",\n  'course': 'machine-learning-zoomcamp',\n  'id': '6ba259b1'},\n {'text': 'Technically, yes. Advisable? Not really. Reasons:\\nSome homework(s) asks for specific python library versions.\\nAnswers may not match in MCQ options if using different languages other than Python 3.10 (the recommended version for 2023 cohort)\\nAnd as for midterms/capstones, your peer-reviewers may not know these other languages. Do you want to be penalized for others not knowing these other languages?\\nYou can create a separate repo using course’s lessons but written in other languages for your own learnings, but not advisable for submissions.\\ntx[source]',\n  'section': 'Miscellaneous',\n  'question': 'Can I do the course in other languages, like R or Scala?',\n  'course': 'machine-learning-zoomcamp',\n  'id': '9f261648'},\n {'text': 'We won’t re-record the course videos. The focus of the course and the skills we want to teach remained the same, and the videos are still up-to-date.\\nIf you haven’t taken part in the previous iteration, you can start watching the videos. It’ll be useful for you and you will learn new things. However, we recommend using Python 3.10 now instead of Python 3.8.',\n  'section': 'General course-related questions',\n  'question': 'The course videos are from the previous iteration. Will you release new ones or we’ll use the videos from 2021?',\n  'course': 'machine-learning-zoomcamp',\n  'id': 'e7ba6b8a'}]"
     },
     "execution_count": 30,
     "metadata": {},
     "output_type": "execute_result"
    }
   ],
   "source": [
    "class VectorSearchEngine():\n",
    "    def __init__(self, documents, embeddings):\n",
    "        self.documents = documents\n",
    "        self.embeddings = embeddings\n",
    "\n",
    "    def search(self, v_query, num_results=10):\n",
    "        scores = self.embeddings.dot(v_query)\n",
    "        idx = np.argsort(-scores)[:num_results]\n",
    "        return [self.documents[i] for i in idx]\n",
    "\n",
    "search_engine = VectorSearchEngine(documents=docs_mlz, embeddings=X_mlz)\n",
    "search_engine.search(user_question_vector, num_results=5)"
   ],
   "metadata": {
    "collapsed": false,
    "ExecuteTime": {
     "end_time": "2024-07-29T17:46:11.959925Z",
     "start_time": "2024-07-29T17:46:11.954191Z"
    }
   },
   "id": "ece7e9ab3ba37b59",
   "execution_count": 30
  },
  {
   "cell_type": "code",
   "outputs": [],
   "source": [
    "import pandas as pd\n",
    "\n",
    "base_url = 'https://github.com/DataTalksClub/llm-zoomcamp/blob/main'\n",
    "relative_url = '03-vector-search/eval/ground-truth-data.csv'\n",
    "ground_truth_url = f'{base_url}/{relative_url}?raw=1'\n",
    "\n",
    "df_ground_truth = pd.read_csv(ground_truth_url)\n",
    "df_ground_truth = df_ground_truth[df_ground_truth.course == 'machine-learning-zoomcamp']\n",
    "ground_truth = df_ground_truth.to_dict(orient='records')"
   ],
   "metadata": {
    "collapsed": false,
    "ExecuteTime": {
     "end_time": "2024-07-29T17:47:16.652698Z",
     "start_time": "2024-07-29T17:47:14.747257Z"
    }
   },
   "id": "198f9049e12b1259",
   "execution_count": 31
  },
  {
   "cell_type": "code",
   "outputs": [
    {
     "data": {
      "text/plain": "{'question': 'Where can I sign up for the course?',\n 'course': 'machine-learning-zoomcamp',\n 'document': '0227b872'}"
     },
     "execution_count": 34,
     "metadata": {},
     "output_type": "execute_result"
    }
   ],
   "source": [
    "ground_truth[0]"
   ],
   "metadata": {
    "collapsed": false,
    "ExecuteTime": {
     "end_time": "2024-07-29T17:50:27.640803Z",
     "start_time": "2024-07-29T17:50:27.638525Z"
    }
   },
   "id": "b70f03742e33279f",
   "execution_count": 34
  },
  {
   "cell_type": "code",
   "outputs": [],
   "source": [
    "def hit_rate_search_engine(ground_truth: list[dict], search_engine: VectorSearchEngine) -> float:\n",
    "    hits = 0\n",
    "    for item in tqdm(ground_truth):\n",
    "        question = item['question']\n",
    "        v_question = model.encode(question).tolist()\n",
    "        results = search_engine.search(v_question, num_results=5)\n",
    "        hits += any(item['document'] == result['id'] for result in results)\n",
    "    return hits / len(ground_truth)"
   ],
   "metadata": {
    "collapsed": false,
    "ExecuteTime": {
     "end_time": "2024-07-29T17:51:12.696531Z",
     "start_time": "2024-07-29T17:51:12.692376Z"
    }
   },
   "id": "1c6bfcdd3cab33e5",
   "execution_count": 37
  },
  {
   "cell_type": "code",
   "outputs": [
    {
     "name": "stderr",
     "output_type": "stream",
     "text": [
      "100%|██████████| 1830/1830 [00:47<00:00, 38.45it/s]\n"
     ]
    },
    {
     "data": {
      "text/plain": "0.9398907103825137"
     },
     "execution_count": 38,
     "metadata": {},
     "output_type": "execute_result"
    }
   ],
   "source": [
    "hit_rate(ground_truth, search_engine)"
   ],
   "metadata": {
    "collapsed": false,
    "ExecuteTime": {
     "end_time": "2024-07-29T17:52:02.092227Z",
     "start_time": "2024-07-29T17:51:14.494279Z"
    }
   },
   "id": "43573a53d507ef4e",
   "execution_count": 38
  },
  {
   "cell_type": "code",
   "outputs": [
    {
     "data": {
      "text/plain": "(375, (375, 768))"
     },
     "execution_count": 41,
     "metadata": {},
     "output_type": "execute_result"
    }
   ],
   "source": [
    "len(docs_mlz), X_mlz.shape"
   ],
   "metadata": {
    "collapsed": false,
    "ExecuteTime": {
     "end_time": "2024-07-29T17:54:18.374201Z",
     "start_time": "2024-07-29T17:54:18.371704Z"
    }
   },
   "id": "3fd20d4834f0eb30",
   "execution_count": 41
  },
  {
   "cell_type": "code",
   "outputs": [],
   "source": [
    "from elasticsearch import Elasticsearch"
   ],
   "metadata": {
    "collapsed": false,
    "ExecuteTime": {
     "end_time": "2024-08-04T14:25:32.071547Z",
     "start_time": "2024-08-04T14:25:31.982813Z"
    }
   },
   "id": "66e4f21e06fd008b",
   "execution_count": 7
  },
  {
   "cell_type": "code",
   "outputs": [],
   "source": [
    "es_client = Elasticsearch(\"http://localhost:9200\")"
   ],
   "metadata": {
    "collapsed": false,
    "ExecuteTime": {
     "end_time": "2024-08-04T14:25:33.566886Z",
     "start_time": "2024-08-04T14:25:33.564057Z"
    }
   },
   "id": "6243598e5d74648b",
   "execution_count": 8
  },
  {
   "cell_type": "code",
   "outputs": [],
   "source": [
    "user_question = \"I just discovered the course. Can I still join it?\"\n",
    "user_question_vector = model.encode(user_question).tolist()"
   ],
   "metadata": {
    "collapsed": false,
    "ExecuteTime": {
     "end_time": "2024-08-04T14:27:21.227538Z",
     "start_time": "2024-08-04T14:27:21.167032Z"
    }
   },
   "id": "d482faa82ca66d4d",
   "execution_count": 15
  },
  {
   "cell_type": "code",
   "outputs": [],
   "source": [
    "knn_query = {\n",
    "    \"field\": \"qa_vector\",\n",
    "    \"query_vector\": user_question_vector,\n",
    "    \"k\": 5,\n",
    "    \"num_candidates\": 10000, \n",
    "}"
   ],
   "metadata": {
    "collapsed": false,
    "ExecuteTime": {
     "end_time": "2024-08-04T14:28:47.088907Z",
     "start_time": "2024-08-04T14:28:47.087046Z"
    }
   },
   "id": "9d0e5c5ea011f35",
   "execution_count": 26
  },
  {
   "cell_type": "code",
   "outputs": [],
   "source": [
    "response = es_client.search(\n",
    "    index=\"course-qa\",\n",
    "    knn=knn_query,\n",
    "    size=12,\n",
    "    source=[\"question\", \"answer\", \"id\"],\n",
    ")"
   ],
   "metadata": {
    "collapsed": false,
    "ExecuteTime": {
     "end_time": "2024-08-04T14:28:47.695399Z",
     "start_time": "2024-08-04T14:28:47.668009Z"
    }
   },
   "id": "d8d39efde94b3a98",
   "execution_count": 27
  },
  {
   "cell_type": "code",
   "outputs": [
    {
     "data": {
      "text/plain": "[{'_index': 'course-qa',\n  '_id': 'zPvGHZEBaOxKYkmM4uBx',\n  '_score': 0.7873192,\n  '_source': {'question': 'Course - Can I still join the course after the start date?',\n   'id': '7842b56a',\n   'answer': \"Yes, even if you don't register, you're still eligible to submit the homeworks.\\nBe aware, however, that there will be deadlines for turning in the final projects. So don't leave everything for the last minute.\"}},\n {'_index': 'course-qa',\n  '_id': '0fvGHZEBaOxKYkmM4uCM',\n  '_score': 0.7583208,\n  '_source': {'question': 'Course - Can I follow the course after it finishes?',\n   'id': 'a482086d',\n   'answer': 'Yes, we will keep all the materials after the course finishes, so you can follow the course at your own pace after it finishes.\\nYou can also continue looking at the homeworks and continue preparing for the next cohort. I guess you can also start working on your final capstone project.'}},\n {'_index': 'course-qa',\n  '_id': 'yvvGHZEBaOxKYkmM4uBY',\n  '_score': 0.7561499,\n  '_source': {'question': 'Course - When will the course start?',\n   'id': 'c02e79ef',\n   'answer': \"The purpose of this document is to capture frequently asked technical questions\\nThe exact day and hour of the course will be 15th Jan 2024 at 17h00. The course will start with the first  “Office Hours'' live.1\\nSubscribe to course public Google Calendar (it works from Desktop only).\\nRegister before the course starts using this link.\\nJoin the course Telegram channel with announcements.\\nDon’t forget to register in DataTalks.Club's Slack and join the channel.\"}},\n {'_index': 'course-qa',\n  '_id': '0vvGHZEBaOxKYkmM4uCS',\n  '_score': 0.7103377,\n  '_source': {'question': 'Course - Can I get support if I take the course in the self-paced mode?',\n   'id': 'eb56ae98',\n   'answer': 'Yes, the slack channel remains open and you can ask questions there. But always sDocker containers exit code w search the channel first and second, check the FAQ (this document), most likely all your questions are already answered here.\\nYou can also tag the bot @ZoomcampQABot to help you conduct the search, but don’t rely on its answers 100%, it is pretty good though.'}},\n {'_index': 'course-qa',\n  '_id': 'zvvGHZEBaOxKYkmM4uB8',\n  '_score': 0.6811029,\n  '_source': {'question': 'Course - What can I do before the course starts?',\n   'id': '63394d91',\n   'answer': 'You can start by installing and setting up all the dependencies and requirements:\\nGoogle cloud account\\nGoogle Cloud SDK\\nPython 3 (installed with Anaconda)\\nTerraform\\nGit\\nLook over the prerequisites and syllabus to see if you are comfortable with these subjects.'}}]"
     },
     "execution_count": 28,
     "metadata": {},
     "output_type": "execute_result"
    }
   ],
   "source": [
    "response[\"hits\"][\"hits\"]"
   ],
   "metadata": {
    "collapsed": false,
    "ExecuteTime": {
     "end_time": "2024-08-04T14:28:48.145286Z",
     "start_time": "2024-08-04T14:28:48.142451Z"
    }
   },
   "id": "e516797c0451c5f5",
   "execution_count": 28
  },
  {
   "cell_type": "code",
   "outputs": [],
   "source": [
    "def hit_rate_es(ground_truth: list[dict], es_client: Elasticsearch) -> float:\n",
    "    hits = 0\n",
    "    for item in tqdm(ground_truth):\n",
    "        question = item['question']\n",
    "        v_question = model.encode(question).tolist()\n",
    "        knn_query = {\n",
    "            \"field\": \"qt_vector\",\n",
    "            \"query_vector\": v_question,\n",
    "            \"k\": 5,\n",
    "            \"num_candidates\": 10000, \n",
    "        }\n",
    "        response = es_client.search(\n",
    "            index=index_name,\n",
    "            knn=knn_query,\n",
    "            size=5,\n",
    "            source=[\"id\"],\n",
    "        )\n",
    "        results = response[\"hits\"][\"hits\"]\n",
    "        hits += any(item['document'] == result['_source']['id'] for result in results)\n",
    "    return hits / len(ground_truth)"
   ],
   "metadata": {
    "collapsed": false,
    "ExecuteTime": {
     "end_time": "2024-07-29T19:27:27.183361Z",
     "start_time": "2024-07-29T19:27:27.179881Z"
    }
   },
   "id": "e210e2fa51cb1e6d",
   "execution_count": 66
  },
  {
   "cell_type": "code",
   "outputs": [
    {
     "name": "stderr",
     "output_type": "stream",
     "text": [
      "100%|██████████| 1830/1830 [01:15<00:00, 24.15it/s]\n"
     ]
    },
    {
     "data": {
      "text/plain": "0.9398907103825137"
     },
     "execution_count": 67,
     "metadata": {},
     "output_type": "execute_result"
    }
   ],
   "source": [
    "hit_rate_es(ground_truth, es_client)"
   ],
   "metadata": {
    "collapsed": false,
    "ExecuteTime": {
     "end_time": "2024-07-29T19:28:49.427841Z",
     "start_time": "2024-07-29T19:27:33.653648Z"
    }
   },
   "id": "f03de4375fc8d223",
   "execution_count": 67
  },
  {
   "cell_type": "code",
   "outputs": [],
   "source": [],
   "metadata": {
    "collapsed": false
   },
   "id": "a9a5702ae746f52"
  },
  {
   "cell_type": "code",
   "outputs": [],
   "source": [
    "index_name = \"questions\"\n",
    "index_settings = {\n",
    "    \"settings\": {\n",
    "        \"number_of_shards\": 1,\n",
    "        \"number_of_replicas\": 0\n",
    "    },\n",
    "    \"mappings\": {\n",
    "        \"properties\": {\n",
    "            \"text\": {\"type\": \"text\"},\n",
    "            \"section\": {\"type\": \"text\"},\n",
    "            \"question\": {\"type\": \"text\"},\n",
    "            \"course\": {\"type\": \"keyword\"} \n",
    "        }\n",
    "    }\n",
    "}"
   ],
   "metadata": {
    "collapsed": false,
    "ExecuteTime": {
     "end_time": "2024-07-28T11:14:20.722Z",
     "start_time": "2024-07-28T11:14:20.718017Z"
    }
   },
   "id": "84bbeacf2a3d8af4",
   "execution_count": 25
  },
  {
   "cell_type": "code",
   "outputs": [
    {
     "data": {
      "text/plain": "ObjectApiResponse({'acknowledged': True, 'shards_acknowledged': True, 'index': 'questions'})"
     },
     "execution_count": 26,
     "metadata": {},
     "output_type": "execute_result"
    }
   ],
   "source": [
    "es_client.indices.create(index=index_name, body=index_settings)"
   ],
   "metadata": {
    "collapsed": false,
    "ExecuteTime": {
     "end_time": "2024-07-28T11:14:28.937208Z",
     "start_time": "2024-07-28T11:14:28.848402Z"
    }
   },
   "id": "931bcb5843959d0e",
   "execution_count": 26
  },
  {
   "cell_type": "code",
   "outputs": [
    {
     "name": "stderr",
     "output_type": "stream",
     "text": [
      "100%|██████████| 948/948 [00:02<00:00, 470.29it/s]\n"
     ]
    }
   ],
   "source": [
    "documents = prepare_docs()\n",
    "for doc in tqdm(documents):\n",
    "    es_client.index(index=index_name, body=doc)"
   ],
   "metadata": {
    "collapsed": false,
    "ExecuteTime": {
     "end_time": "2024-07-28T11:14:38.070694Z",
     "start_time": "2024-07-28T11:14:35.054509Z"
    }
   },
   "id": "199f5cd5c0c0c1",
   "execution_count": 27
  },
  {
   "cell_type": "code",
   "outputs": [],
   "source": [
    "query = \"windows or mac\"\n",
    "\n",
    "es_search_query = {\n",
    "    \"size\": 3,\n",
    "    \"query\": {\n",
    "        \"bool\": {\n",
    "            \"must\": {\n",
    "                \"multi_match\": {\n",
    "                    \"query\": query,\n",
    "                    \"fields\": [\"question^4\", \"text\",],\n",
    "                    \"type\": \"best_fields\"\n",
    "                }\n",
    "            },\n",
    "            \"filter\": {\n",
    "                \"term\": {\n",
    "                    \"course\": \"machine-learning-zoomcamp\"\n",
    "                }\n",
    "            }\n",
    "        }\n",
    "    }\n",
    "}"
   ],
   "metadata": {
    "collapsed": false,
    "ExecuteTime": {
     "end_time": "2024-07-28T11:14:50.201812Z",
     "start_time": "2024-07-28T11:14:50.198575Z"
    }
   },
   "id": "8e1ae57352d4b497",
   "execution_count": 28
  },
  {
   "cell_type": "code",
   "outputs": [],
   "source": [
    "results = es_client.search(index=index_name, body=es_search_query)"
   ],
   "metadata": {
    "collapsed": false,
    "ExecuteTime": {
     "end_time": "2024-07-28T11:14:52.480860Z",
     "start_time": "2024-07-28T11:14:52.448353Z"
    }
   },
   "id": "cde30afa62774868",
   "execution_count": 29
  },
  {
   "cell_type": "code",
   "outputs": [
    {
     "data": {
      "text/plain": "[{'_index': 'questions',\n  '_id': 'QxAM-ZAB4ih9aEr8s23X',\n  '_score': 23.824303,\n  '_source': {'text': \"Problem: I download kind from the next command:\\ncurl.exe -Lo kind-windows-amd64.exe https://kind.sigs.k8s.io/dl/v0.17.0/kind-windows-amd64\\nWhen I try\\nkind --version\\nI get: 'kind' is not recognized as an internal or external command, operable program or batch file\\nSolution: The default name of executable is kind-windows-amd64.exe, so that you have to rename this file to  kind.exe. Put this file in specific folder, and add it to PATH\\nAlejandro Aponte\",\n   'section': '10. Kubernetes and TensorFlow Serving',\n   'question': \"'kind' is not recognized as an internal or external command, operable program or batch file. (In Windows)\",\n   'course': 'machine-learning-zoomcamp'}},\n {'_index': 'questions',\n  '_id': 'IxAM-ZAB4ih9aEr8s22d',\n  '_score': 21.696842,\n  '_source': {'text': 'Problem:\\nWhile trying to build docker image in Section 9.5 with the command:\\ndocker build -t clothing-model .\\nIt throws a pip install error for the tflite runtime whl\\nERROR: failed to solve: process \"/bin/sh -c pip install https://github.com/alexeygrigorev/tflite-aws-lambda/blob/main/tflite/tflite_runtime-2.14.0-cp310-cp310-linux_x86_64.whl\" did not complete successfully: exit code: 1\\nTry to use this link: https://github.com/alexeygrigorev/tflite-aws-lambda/raw/main/tflite/tflite_runtime-2.14.0-cp310-cp310-linux_x86_64.whl\\nIf the link above does not work:\\nThe problem is because of the arm architecture of the M1. You will need to run the code on a PC or Ubuntu OS.\\nOr try the code bellow.\\nAdded by Dashel Ruiz Perez\\nSolution:\\nTo build the Docker image, use the command:\\ndocker build --platform linux/amd64 -t clothing-model .\\nTo run the built image, use the command:\\ndocker run -it --rm -p 8080:8080 --platform linux/amd64 clothing-model:latest\\nAdded by Daniel Egbo',\n   'section': '9. Serverless Deep Learning',\n   'question': 'Error building docker image on M1 Mac',\n   'course': 'machine-learning-zoomcamp'}},\n {'_index': 'questions',\n  '_id': 'dhAM-ZAB4ih9aEr8tG07',\n  '_score': 20.058142,\n  '_source': {'text': 'Refer to https://github.com/DataTalksClub/machine-learning-zoomcamp/blob/master/01-intro/06-environment.md\\n(added by Rileen Sinha)',\n   'section': 'Miscellaneous',\n   'question': 'None of the videos have how to install the environment in Mac, does someone have instructions for Mac with M1 chip?',\n   'course': 'machine-learning-zoomcamp'}}]"
     },
     "execution_count": 30,
     "metadata": {},
     "output_type": "execute_result"
    }
   ],
   "source": [
    "results[\"hits\"][\"hits\"]"
   ],
   "metadata": {
    "collapsed": false,
    "ExecuteTime": {
     "end_time": "2024-07-28T11:14:52.928497Z",
     "start_time": "2024-07-28T11:14:52.925720Z"
    }
   },
   "id": "b2939de439012950",
   "execution_count": 30
  },
  {
   "cell_type": "code",
   "outputs": [],
   "source": [
    "context_template = \"\"\"\n",
    "Q: {question}\n",
    "A: {text}\n",
    "\"\"\".strip()\n",
    "\n",
    "prompt_template = \"\"\"\n",
    "You're a course teaching assistant. Answer the QUESTION based on the CONTEXT from the FAQ database.\n",
    "Use only the facts from the CONTEXT when answering the QUESTION.\n",
    "\n",
    "QUESTION: {question}\n",
    "\n",
    "CONTEXT:\n",
    "{context}\n",
    "\"\"\".strip()"
   ],
   "metadata": {
    "collapsed": false,
    "ExecuteTime": {
     "end_time": "2024-06-24T12:17:47.481971Z",
     "start_time": "2024-06-24T12:17:47.477172Z"
    }
   },
   "id": "41545baf07961f67",
   "execution_count": 74
  },
  {
   "cell_type": "code",
   "outputs": [],
   "source": [
    "contexts = []\n",
    "for hit in results[\"hits\"][\"hits\"]:\n",
    "    context = context_template.format(**hit[\"_source\"])\n",
    "    contexts.append(context)"
   ],
   "metadata": {
    "collapsed": false,
    "ExecuteTime": {
     "end_time": "2024-06-24T12:20:38.883154Z",
     "start_time": "2024-06-24T12:20:38.879985Z"
    }
   },
   "id": "b4d21b9f0be844d6",
   "execution_count": 79
  },
  {
   "cell_type": "code",
   "outputs": [],
   "source": [
    "prompt = prompt_template.format(question=query, context=\"\\n\\n\".join(contexts))"
   ],
   "metadata": {
    "collapsed": false,
    "ExecuteTime": {
     "end_time": "2024-06-24T12:20:39.353526Z",
     "start_time": "2024-06-24T12:20:39.351476Z"
    }
   },
   "id": "13b8bf0858bfc366",
   "execution_count": 80
  },
  {
   "cell_type": "code",
   "outputs": [
    {
     "name": "stdout",
     "output_type": "stream",
     "text": [
      "You're a course teaching assistant. Answer the QUESTION based on the CONTEXT from the FAQ database.\n",
      "Use only the facts from the CONTEXT when answering the QUESTION.\n",
      "\n",
      "QUESTION: How do I execute a command in a running docker container?\n",
      "\n",
      "CONTEXT:\n",
      "Q: How do I debug a docker container?\n",
      "A: Launch the container image in interactive mode and overriding the entrypoint, so that it starts a bash command.\n",
      "docker run -it --entrypoint bash <image>\n",
      "If the container is already running, execute a command in the specific container:\n",
      "docker ps (find the container-id)\n",
      "docker exec -it <container-id> bash\n",
      "(Marcos MJD)\n",
      "\n",
      "Q: How do I copy files from my local machine to docker container?\n",
      "A: You can copy files from your local machine into a Docker container using the docker cp command. Here's how to do it:\n",
      "To copy a file or directory from your local machine into a running Docker container, you can use the `docker cp command`. The basic syntax is as follows:\n",
      "docker cp /path/to/local/file_or_directory container_id:/path/in/container\n",
      "Hrithik Kumar Advani\n",
      "\n",
      "Q: How do I copy files from a different folder into docker container’s working directory?\n",
      "A: You can copy files from your local machine into a Docker container using the docker cp command. Here's how to do it:\n",
      "In the Dockerfile, you can provide the folder containing the files that you want to copy over. The basic syntax is as follows:\n",
      "COPY [\"src/predict.py\", \"models/xgb_model.bin\", \"./\"]\t\t\t\t\t\t\t\t\t\t\tGopakumar Gopinathan\n"
     ]
    }
   ],
   "source": [
    "print(prompt)"
   ],
   "metadata": {
    "collapsed": false,
    "ExecuteTime": {
     "end_time": "2024-06-24T12:21:09.417868Z",
     "start_time": "2024-06-24T12:21:09.414011Z"
    }
   },
   "id": "2d20ec857539d2dd",
   "execution_count": 83
  },
  {
   "cell_type": "code",
   "outputs": [],
   "source": [
    "import tiktoken"
   ],
   "metadata": {
    "collapsed": false,
    "ExecuteTime": {
     "end_time": "2024-06-24T12:22:59.880922Z",
     "start_time": "2024-06-24T12:22:57.167208Z"
    }
   },
   "id": "4088067761b694fe",
   "execution_count": 85
  },
  {
   "cell_type": "code",
   "outputs": [],
   "source": [
    "encoding = tiktoken.encoding_for_model(\"gpt-4o\")"
   ],
   "metadata": {
    "collapsed": false,
    "ExecuteTime": {
     "end_time": "2024-06-24T12:23:05.798351Z",
     "start_time": "2024-06-24T12:23:01.841386Z"
    }
   },
   "id": "f0bfe149cca9b5de",
   "execution_count": 86
  },
  {
   "cell_type": "code",
   "outputs": [
    {
     "data": {
      "text/plain": "[63842,\n 261,\n 4165,\n 14029,\n 29186,\n 13,\n 30985,\n 290,\n 150339,\n 4122,\n 402,\n 290,\n 31810,\n 8099,\n 591,\n 290,\n 40251,\n 7862,\n 558,\n 8470,\n 1606,\n 290,\n 19719,\n 591,\n 290,\n 31810,\n 8099,\n 1261,\n 55959,\n 290,\n 150339,\n 364,\n 107036,\n 25,\n 3253,\n 621,\n 357,\n 15792,\n 261,\n 6348,\n 306,\n 261,\n 6788,\n 62275,\n 9282,\n 1715,\n 10637,\n 50738,\n 734,\n 48,\n 25,\n 3253,\n 621,\n 357,\n 15199,\n 261,\n 62275,\n 9282,\n 3901,\n 32,\n 25,\n 41281,\n 290,\n 9282,\n 3621,\n 306,\n 25383,\n 6766,\n 326,\n 151187,\n 290,\n 7251,\n 4859,\n 11,\n 813,\n 484,\n 480,\n 13217,\n 261,\n 38615,\n 6348,\n 558,\n 68923,\n 2461,\n 533,\n 278,\n 2230,\n 7962,\n 4859,\n 38615,\n 464,\n 3365,\n 523,\n 3335,\n 290,\n 9282,\n 382,\n 4279,\n 6788,\n 11,\n 15792,\n 261,\n 6348,\n 306,\n 290,\n 4857,\n 9282,\n 734,\n 68923,\n 10942,\n 350,\n 6555,\n 290,\n 9282,\n 26240,\n 446,\n 68923,\n 25398,\n 533,\n 278,\n 464,\n 6896,\n 26240,\n 29,\n 38615,\n 198,\n 6103,\n 277,\n 10732,\n 391,\n 79771,\n 1029,\n 48,\n 25,\n 3253,\n 621,\n 357,\n 5150,\n 6291,\n 591,\n 922,\n 2698,\n 7342,\n 316,\n 62275,\n 9282,\n 3901,\n 32,\n 25,\n 1608,\n 665,\n 5150,\n 6291,\n 591,\n 634,\n 2698,\n 7342,\n 1511,\n 261,\n 91238,\n 9282,\n 2360,\n 290,\n 62275,\n 27776,\n 6348,\n 13,\n 44257,\n 1495,\n 316,\n 621,\n 480,\n 734,\n 1385,\n 5150,\n 261,\n 1974,\n 503,\n 12552,\n 591,\n 634,\n 2698,\n 7342,\n 1511,\n 261,\n 6788,\n 91238,\n 9282,\n 11,\n 481,\n 665,\n 1199,\n 290,\n 2700,\n 68923,\n 27776,\n 6348,\n 62102,\n 623,\n 9439,\n 45440,\n 382,\n 472,\n 18183,\n 734,\n 68923,\n 27776,\n 820,\n 4189,\n 72231,\n 52214,\n 51766,\n 15400,\n 35850,\n 9282,\n 1537,\n 27975,\n 4189,\n 26985,\n 190543,\n 198,\n 106096,\n 437,\n 507,\n 70737,\n 15241,\n 3048,\n 279,\n 48,\n 25,\n 3253,\n 621,\n 357,\n 5150,\n 6291,\n 591,\n 261,\n 2647,\n 15610,\n 1511,\n 62275,\n 9282,\n 802,\n 4113,\n 12552,\n 3901,\n 32,\n 25,\n 1608,\n 665,\n 5150,\n 6291,\n 591,\n 634,\n 2698,\n 7342,\n 1511,\n 261,\n 91238,\n 9282,\n 2360,\n 290,\n 62275,\n 27776,\n 6348,\n 13,\n 44257,\n 1495,\n 316,\n 621,\n 480,\n 734,\n 637,\n 290,\n 91238,\n 2318,\n 11,\n 481,\n 665,\n 3587,\n 290,\n 15610,\n 15683,\n 290,\n 6291,\n 484,\n 481,\n 1682,\n 316,\n 5150,\n 1072,\n 13,\n 623,\n 9439,\n 45440,\n 382,\n 472,\n 18183,\n 734,\n 128701,\n 9129,\n 7205,\n 8138,\n 21369,\n 17311,\n 672,\n 392,\n 13123,\n 22739,\n 9320,\n 10928,\n 69422,\n 672,\n 9633,\n 2601,\n 14973,\n 22713,\n 167296,\n 30463,\n 499,\n 137058,\n 22064]"
     },
     "execution_count": 89,
     "metadata": {},
     "output_type": "execute_result"
    }
   ],
   "source": [
    "encoding.encode(prompt)"
   ],
   "metadata": {
    "collapsed": false,
    "ExecuteTime": {
     "end_time": "2024-06-24T12:23:50.088978Z",
     "start_time": "2024-06-24T12:23:50.085271Z"
    }
   },
   "id": "952db60954acba2a",
   "execution_count": 89
  },
  {
   "cell_type": "code",
   "outputs": [
    {
     "data": {
      "text/plain": "b' a'"
     },
     "execution_count": 92,
     "metadata": {},
     "output_type": "execute_result"
    }
   ],
   "source": [
    "encoding.decode_single_token_bytes(261)"
   ],
   "metadata": {
    "collapsed": false,
    "ExecuteTime": {
     "end_time": "2024-06-24T12:24:22.256571Z",
     "start_time": "2024-06-24T12:24:22.252531Z"
    }
   },
   "id": "e8314b61f47eb18c",
   "execution_count": 92
  },
  {
   "cell_type": "code",
   "outputs": [],
   "source": [],
   "metadata": {
    "collapsed": false
   },
   "id": "32cac26511ce553b"
  }
 ],
 "metadata": {
  "kernelspec": {
   "display_name": "llm-wshp",
   "language": "python",
   "name": "llm-wshp"
  },
  "language_info": {
   "codemirror_mode": {
    "name": "ipython",
    "version": 3
   },
   "file_extension": ".py",
   "mimetype": "text/x-python",
   "name": "python",
   "nbconvert_exporter": "python",
   "pygments_lexer": "ipython3",
   "version": "3.11.0"
  }
 },
 "nbformat": 4,
 "nbformat_minor": 5
}
